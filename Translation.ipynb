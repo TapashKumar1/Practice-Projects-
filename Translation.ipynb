{
 "cells": [
  {
   "cell_type": "markdown",
   "id": "20ade7a8",
   "metadata": {},
   "source": [
    "Importing necessary libraries\n",
    "1. Pandas - used to data manipulation\n",
    "2. translate - library used for translation\n",
    "3. Time - to work with time related operations"
   ]
  },
  {
   "cell_type": "code",
   "execution_count": 1,
   "id": "cc55ab09",
   "metadata": {},
   "outputs": [],
   "source": [
    "import pandas as pd\n",
    "from translate import Translator\n",
    "import time"
   ]
  },
  {
   "cell_type": "code",
   "execution_count": 8,
   "id": "cb3ddda9",
   "metadata": {},
   "outputs": [],
   "source": [
    "# Creating a function for translation using exception handling for the errors\n",
    "def translate_text(text, target_language='en',max_retries = 3):\n",
    "    for _ in range(max_retries):\n",
    "        try:\n",
    "            translator = Translator(to_lang = target_language)\n",
    "            translation = translator.translate(text)\n",
    "            return translation\n",
    "        except Exception as e:\n",
    "            print(f\"Error Translating: {text}\")\n",
    "            print(f\"Error details: {e}\")\n",
    "            time.sleep(1)\n",
    "        \n",
    "    return text"
   ]
  },
  {
   "cell_type": "code",
   "execution_count": 9,
   "id": "109ed705",
   "metadata": {},
   "outputs": [],
   "source": [
    "# Using time while reading the excel file\n",
    "start_time = time.time()\n",
    "df = pd.read_excel(r\"C:\\Users\\user\\Downloads\\Order Export.xls\")"
   ]
  },
  {
   "cell_type": "code",
   "execution_count": 10,
   "id": "0388d72c",
   "metadata": {},
   "outputs": [],
   "source": [
    "# Translating the text\n",
    "df_translated = df.applymap(translate_text)"
   ]
  },
  {
   "cell_type": "code",
   "execution_count": 11,
   "id": "695fd994",
   "metadata": {},
   "outputs": [
    {
     "name": "stdout",
     "output_type": "stream",
     "text": [
      "Total time taken: 83.71935653686523 seconds\n"
     ]
    }
   ],
   "source": [
    "# Using time library to end time and printing the total time taken\n",
    "end_time = time.time()\n",
    "print(f\"Total time taken: {end_time - start_time} seconds\")"
   ]
  },
  {
   "cell_type": "code",
   "execution_count": null,
   "id": "4abec026",
   "metadata": {},
   "outputs": [],
   "source": []
  }
 ],
 "metadata": {
  "kernelspec": {
   "display_name": "Python 3",
   "language": "python",
   "name": "python3"
  },
  "language_info": {
   "codemirror_mode": {
    "name": "ipython",
    "version": 3
   },
   "file_extension": ".py",
   "mimetype": "text/x-python",
   "name": "python",
   "nbconvert_exporter": "python",
   "pygments_lexer": "ipython3",
   "version": "3.8.8"
  }
 },
 "nbformat": 4,
 "nbformat_minor": 5
}
